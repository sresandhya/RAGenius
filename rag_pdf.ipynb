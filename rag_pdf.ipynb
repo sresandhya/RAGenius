{
 "cells": [
  {
   "cell_type": "code",
   "execution_count": null,
   "id": "0edb1ba8-ecc2-42c3-a390-a8c569082f12",
   "metadata": {},
   "outputs": [],
   "source": [
    "from langchain_community.document_loaders import PyPDFLoader\n",
    "from tkinter import Tk\n",
    "from tkinter.filedialog import askopenfilename\n",
    "Tk().withdraw()\n",
    "pdf_path = askopenfilename(filetypes=[(\"PDF files\", \"*.pdf\")])\n",
    "loader = PyPDFLoader(pdf_path)\n",
    "data=loader.load()\n",
    "data"
   ]
  },
  {
   "cell_type": "code",
   "execution_count": null,
   "id": "eec76113-8233-4fb6-8114-3519d4e6a54d",
   "metadata": {},
   "outputs": [],
   "source": [
    "pip install pypdf\n"
   ]
  },
  {
   "cell_type": "code",
   "execution_count": null,
   "id": "f37e68a5-0fa1-4974-a497-a9009ac1e776",
   "metadata": {},
   "outputs": [],
   "source": [
    "len(data)"
   ]
  },
  {
   "cell_type": "code",
   "execution_count": null,
   "id": "daed3afa-0593-4330-874f-5f09409ce8b1",
   "metadata": {},
   "outputs": [],
   "source": [
    "from langchain.text_splitter import RecursiveCharacterTextSplitter\n",
    "\n",
    "text= RecursiveCharacterTextSplitter(chunk_size=500)\n",
    "doc=text.split_documents(data)\n",
    "print(\"NO OF DOCS\",len(doc))"
   ]
  },
  {
   "cell_type": "code",
   "execution_count": null,
   "id": "c8324b0c-93a8-453e-81ae-911b0a31dff6",
   "metadata": {},
   "outputs": [],
   "source": [
    "doc[3]"
   ]
  },
  {
   "cell_type": "code",
   "execution_count": null,
   "id": "6f14ab18-5452-4e4b-b8d4-70c46f37f954",
   "metadata": {},
   "outputs": [],
   "source": [
    "from langchain_community.vectorstores import Chroma\n",
    "from langchain_google_genai import GoogleGenerativeAIEmbeddings\n",
    "from dotenv import load_dotenv\n",
    "load_dotenv()\n",
    "\n",
    "embeddings=GoogleGenerativeAIEmbeddings(model=\"models/embedding-001\")\n",
    "vector=embeddings.embed_query(\"Hello World!\")\n",
    "vector[:5]\n"
   ]
  },
  {
   "cell_type": "code",
   "execution_count": null,
   "id": "04250b22-aece-47ac-8693-5596d4a64ea2",
   "metadata": {},
   "outputs": [],
   "source": [
    "vectorstore=Chroma.from_documents(documents=doc,embedding=GoogleGenerativeAIEmbeddings(model=\"models/embedding-001\"))"
   ]
  },
  {
   "cell_type": "code",
   "execution_count": null,
   "id": "8e518bf5-7d46-4180-82b3-8ad0c61eba3d",
   "metadata": {},
   "outputs": [],
   "source": [
    "pip install chromadb"
   ]
  },
  {
   "cell_type": "code",
   "execution_count": null,
   "id": "3bd33d18-5e23-473a-aa18-03dc7ad4a161",
   "metadata": {},
   "outputs": [],
   "source": [
    "retriever=vectorstore.as_retriever(search_type=\"similarity\",search_kwargs={\"k\":10})\n",
    "ret_doc=retriever.invoke(\"What is new in Langchain\")"
   ]
  },
  {
   "cell_type": "code",
   "execution_count": 11,
   "id": "73c26047-b331-4a83-81a7-b65493abec4d",
   "metadata": {},
   "outputs": [
    {
     "data": {
      "text/plain": [
       "10"
      ]
     },
     "execution_count": 11,
     "metadata": {},
     "output_type": "execute_result"
    }
   ],
   "source": [
    "len(ret_doc)"
   ]
  },
  {
   "cell_type": "code",
   "execution_count": 12,
   "id": "e0e11b6b-f815-4488-9503-0d06e9ca97ae",
   "metadata": {},
   "outputs": [
    {
     "name": "stdout",
     "output_type": "stream",
     "text": [
      "LangChain 9\n",
      "or real-time monitoring systems, where immediate feedback improves user expe-\n",
      "rience. Streaming can be implemented within any node in the graph, enabling\n",
      "real-time updates as actions are processed [7].\n",
      "3.2 LangGraph Platform\n",
      "The LangGraph Platform [8] is an infrastructure solution that extends the\n",
      "open-source LangGraph framework for production deployments. It includes com-\n",
      "ponents like LangGraph Server (for API access), LangGraph SDKs (client li-\n"
     ]
    }
   ],
   "source": [
    "print(ret_doc[5].page_content)"
   ]
  },
  {
   "cell_type": "code",
   "execution_count": 13,
   "id": "9f32152a-8294-4370-997b-c3b59c7da9b7",
   "metadata": {},
   "outputs": [],
   "source": [
    "from langchain_google_genai import ChatGoogleGenerativeAI\n",
    "llm=ChatGoogleGenerativeAI(model=\"gemini-2.0-flash\",temperature=0,max_tokens=None)"
   ]
  },
  {
   "cell_type": "code",
   "execution_count": 14,
   "id": "556f6a44-8648-4be7-82b3-0e593495d0a4",
   "metadata": {},
   "outputs": [],
   "source": [
    "from langchain.chains import create_retrieval_chain\n",
    "from langchain.chains.combine_documents import create_stuff_documents_chain\n",
    "from langchain_core.prompts import ChatPromptTemplate\n",
    "sys_prompt=(\"You are an AI assistant for answering user questions. \"\n",
    "    \"Refer to the provided retrieved context to form your response. \"\n",
    "    \"If the context does not contain the answer, respond with 'I don't know.' \"\n",
    "    \"Limit your reply to a maximum of three sentences and keep it clear and direct.\\n\\n\"\n",
    "    \"{context}\")\n",
    "prompt=ChatPromptTemplate.from_messages(\n",
    "    [\n",
    "        (\"system\",sys_prompt),\n",
    "        (\"human\",\"{input}\"),\n",
    "    ]\n",
    ")"
   ]
  },
  {
   "cell_type": "code",
   "execution_count": 15,
   "id": "f0d49566-a440-498f-904e-5160c6948579",
   "metadata": {},
   "outputs": [],
   "source": [
    "qa=create_stuff_documents_chain(llm,prompt)\n",
    "rag=create_retrieval_chain(retriever,qa)"
   ]
  },
  {
   "cell_type": "code",
   "execution_count": 16,
   "id": "8da01653-4c8c-466b-a185-617b33600716",
   "metadata": {},
   "outputs": [
    {
     "name": "stdout",
     "output_type": "stream",
     "text": [
      "LangChain introduces advanced components like LangGraph, LangServe, and LangSmith, which enable sophisticated functionality for scalable, interactive, and robust applications. It also supports multi-modal data, such as image, text, and audio inputs, and allows for custom component development. These features equip developers with a comprehensive toolkit for building, deploying, and monitoring LLM applications.\n"
     ]
    }
   ],
   "source": [
    "res=rag.invoke({\"input\":\"what is new in langchain?\"})\n",
    "print(res[\"answer\"])"
   ]
  },
  {
   "cell_type": "code",
   "execution_count": null,
   "id": "f1449096-2c90-476e-b2bd-b66bcfe0242c",
   "metadata": {},
   "outputs": [],
   "source": []
  },
  {
   "cell_type": "code",
   "execution_count": null,
   "id": "ed833775-5a2e-4097-b7ce-7d2b723ed764",
   "metadata": {},
   "outputs": [],
   "source": []
  },
  {
   "cell_type": "code",
   "execution_count": null,
   "id": "c1c817da-83e7-4168-a5f6-0949272572e3",
   "metadata": {},
   "outputs": [],
   "source": []
  },
  {
   "cell_type": "code",
   "execution_count": null,
   "id": "2c02ddcf-296c-4d99-b37a-12ce77521f8f",
   "metadata": {},
   "outputs": [],
   "source": []
  }
 ],
 "metadata": {
  "kernelspec": {
   "display_name": "Python 3 (ipykernel)",
   "language": "python",
   "name": "python3"
  },
  "language_info": {
   "codemirror_mode": {
    "name": "ipython",
    "version": 3
   },
   "file_extension": ".py",
   "mimetype": "text/x-python",
   "name": "python",
   "nbconvert_exporter": "python",
   "pygments_lexer": "ipython3",
   "version": "3.13.5"
  }
 },
 "nbformat": 4,
 "nbformat_minor": 5
}
